{
 "cells": [
  {
   "cell_type": "markdown",
   "metadata": {},
   "source": [
    "**In this notebook, we will look at how we can use the [Aylien Text Analysis API](https://aylien.com/) to extract the main few concepts discussed in a textbook chapter. You just need to input the URL of the document you want to extract the concepts from, and it will give you a short list of the major concepts in the text.**"
   ]
  },
  {
   "cell_type": "markdown",
   "metadata": {},
   "source": [
    "**I am planning to build on top of this and generate a mind-map (a graph of concepts) from the concepts extracted**"
   ]
  },
  {
   "cell_type": "code",
   "execution_count": 1,
   "metadata": {},
   "outputs": [
    {
     "name": "stdout",
     "output_type": "stream",
     "text": [
      "Requirement already up-to-date: aylien-apiclient in /Users/krishnapaparaju/Library/Python/2.7/lib/python/site-packages (0.7.0)\n",
      "Requirement already satisfied, skipping upgrade: httplib2>=0.9 in /Users/krishnapaparaju/Library/Python/2.7/lib/python/site-packages (from aylien-apiclient) (0.12.0)\n",
      "\u001b[33mYou are using pip version 18.0, however version 18.1 is available.\n",
      "You should consider upgrading via the 'pip install --upgrade pip' command.\u001b[0m\n"
     ]
    }
   ],
   "source": [
    "!pip install --upgrade --user aylien-apiclient"
   ]
  },
  {
   "cell_type": "code",
   "execution_count": 2,
   "metadata": {},
   "outputs": [],
   "source": [
    "import aylienapiclient\n",
    "from aylienapiclient.textapi import Client"
   ]
  },
  {
   "cell_type": "code",
   "execution_count": 3,
   "metadata": {},
   "outputs": [],
   "source": [
    "client = Client(\"be217327\", \"14fe9b0e6dcf9f5c9ecb0db03dfac829\")"
   ]
  },
  {
   "cell_type": "markdown",
   "metadata": {},
   "source": [
    "**Concepts from a Chemistry chapter on Atoms**"
   ]
  },
  {
   "cell_type": "code",
   "execution_count": 17,
   "metadata": {},
   "outputs": [
    {
     "name": "stdout",
     "output_type": "stream",
     "text": [
      "carbon\n",
      "atomic mass\n",
      "oxygen\n"
     ]
    }
   ],
   "source": [
    "concepts = client.Concepts(\"https://courses.lumenlearning.com/boundless-chemistry/chapter/the-structure-of-the-atom/\")\n",
    "for i in range(len(concepts)):\n",
    "    print(concepts['concepts'].values()[i]['surfaceForms'][0]['string'])"
   ]
  },
  {
   "cell_type": "markdown",
   "metadata": {},
   "source": [
    "**Concepts from a Physics chapter on Projectile Motion**"
   ]
  },
  {
   "cell_type": "code",
   "execution_count": 18,
   "metadata": {},
   "outputs": [
    {
     "name": "stdout",
     "output_type": "stream",
     "text": [
      "air resistance\n",
      "shell\n",
      "displacement\n"
     ]
    }
   ],
   "source": [
    "concepts = client.Concepts(\"https://pressbooks.bccampus.ca/collegephysics/chapter/projectile-motion/\")\n",
    "for i in range(len(concepts)):\n",
    "    print(concepts['concepts'].values()[i]['surfaceForms'][0]['string'])"
   ]
  },
  {
   "cell_type": "markdown",
   "metadata": {},
   "source": [
    "**Concepts from a post on Computer Vision from my blog**"
   ]
  },
  {
   "cell_type": "code",
   "execution_count": 20,
   "metadata": {},
   "outputs": [
    {
     "name": "stdout",
     "output_type": "stream",
     "text": [
      "receptive field\n",
      "convolution\n"
     ]
    }
   ],
   "source": [
    "concepts = client.Concepts(\"https://srirangatarun.wordpress.com/2018/07/24/computer-vision/\")\n",
    "for i in range(2): # top 2 concepts\n",
    "    print(concepts['concepts'].values()[i]['surfaceForms'][0]['string'])"
   ]
  },
  {
   "cell_type": "markdown",
   "metadata": {},
   "source": [
    "**Concepts from a post on TensorFlow Playground from my blog**"
   ]
  },
  {
   "cell_type": "code",
   "execution_count": 25,
   "metadata": {},
   "outputs": [
    {
     "name": "stdout",
     "output_type": "stream",
     "text": [
      "Perceptron\n",
      "activation function\n",
      "TensorFlow\n"
     ]
    }
   ],
   "source": [
    "concepts = client.Concepts(\"https://srirangatarun.wordpress.com/2016/12/11/tensorflow-playground/\")\n",
    "for i in range(len(concepts)): # top 2 concepts\n",
    "    print(concepts['concepts'].values()[i]['surfaceForms'][0]['string'])"
   ]
  },
  {
   "cell_type": "code",
   "execution_count": null,
   "metadata": {},
   "outputs": [],
   "source": []
  }
 ],
 "metadata": {
  "kernelspec": {
   "display_name": "Python 2",
   "language": "python",
   "name": "python2"
  },
  "language_info": {
   "codemirror_mode": {
    "name": "ipython",
    "version": 2
   },
   "file_extension": ".py",
   "mimetype": "text/x-python",
   "name": "python",
   "nbconvert_exporter": "python",
   "pygments_lexer": "ipython2",
   "version": "2.7.10"
  }
 },
 "nbformat": 4,
 "nbformat_minor": 2
}
