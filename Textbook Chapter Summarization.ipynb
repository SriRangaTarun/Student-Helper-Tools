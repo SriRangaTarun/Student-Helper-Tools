{
 "cells": [
  {
   "cell_type": "markdown",
   "metadata": {},
   "source": [
    "**In this notebook, we will look at how we can use the [Aylien Text Analysis API](https://aylien.com/) to summarize textbook chapters for students. You just need to input the URL of the document you want to summarize and how many sentences long you want the summary to be, and it will give you a good summary covering the main points.**"
   ]
  },
  {
   "cell_type": "code",
   "execution_count": 1,
   "metadata": {},
   "outputs": [
    {
     "name": "stdout",
     "output_type": "stream",
     "text": [
      "Requirement already up-to-date: aylien-apiclient in /Users/krishnapaparaju/Library/Python/2.7/lib/python/site-packages (0.7.0)\n",
      "Requirement already satisfied, skipping upgrade: httplib2>=0.9 in /Users/krishnapaparaju/Library/Python/2.7/lib/python/site-packages (from aylien-apiclient) (0.12.0)\n",
      "\u001b[33mYou are using pip version 18.0, however version 18.1 is available.\n",
      "You should consider upgrading via the 'pip install --upgrade pip' command.\u001b[0m\n"
     ]
    }
   ],
   "source": [
    "!pip install --upgrade --user aylien-apiclient"
   ]
  },
  {
   "cell_type": "code",
   "execution_count": 5,
   "metadata": {},
   "outputs": [],
   "source": [
    "import aylienapiclient\n",
    "from aylienapiclient.textapi import Client"
   ]
  },
  {
   "cell_type": "code",
   "execution_count": 7,
   "metadata": {},
   "outputs": [],
   "source": [
    "client = Client(\"be217327\", \"14fe9b0e6dcf9f5c9ecb0db03dfac829\")"
   ]
  },
  {
   "cell_type": "markdown",
   "metadata": {},
   "source": [
    "**Summarize a Chemistry chapter on Atoms**"
   ]
  },
  {
   "cell_type": "code",
   "execution_count": 15,
   "metadata": {},
   "outputs": [
    {
     "name": "stdout",
     "output_type": "stream",
     "text": [
      "When considering atomic mass, it is customary to ignore the mass of any electrons and calculate the atom’s mass based on the number of protons and neutrons alone.\n",
      "Determine the relationship between the mass number of an atom, its atomic number, its atomic mass, and its number of subatomic particles Neutral atoms of each element contain an equal number of protons and electrons.\n",
      "Given an atomic number (Z) and mass number (A), you can find the number of protons, neutrons, and electrons in a neutral atom.\n",
      "Discuss the properties of isotopes and their use in radiometric dating Isotopes are atoms of the same element that contain an identical number of protons, but a different number of neutrons.\n",
      "isotope: Any of two or more forms of an element where the atoms have the same number of protons, but a different number of neutrons within their nuclei.\n"
     ]
    }
   ],
   "source": [
    "summary = client.Summarize({'url':\"https://courses.lumenlearning.com/boundless-chemistry/chapter/the-structure-of-the-atom/\", 'sentences_number':5})['sentences']\n",
    "for i in range(len(summary)):\n",
    "    print(summary[i])"
   ]
  },
  {
   "cell_type": "markdown",
   "metadata": {},
   "source": [
    "**Summarize a Physics chapter on Projectile Motion**"
   ]
  },
  {
   "cell_type": "code",
   "execution_count": 20,
   "metadata": {},
   "outputs": [
    {
     "name": "stdout",
     "output_type": "stream",
     "text": [
      "In this section, we consider two-dimensional projectile motion, such as that of a football or other object for which air resistance is negligible.\n",
      "Recombine the two motions to find the total displacement and velocity Because the x – and y -motions are perpendicular, we determine these vectors by using the techniques outlined in the Chapter 3.3 Vector Addition and Subtraction: Analytical Methods and employing and in the following form, where is the direction of the displacement and is the direction of the velocity\n",
      "\n",
      "Example 1: A Fireworks Projectile Explodes High and Away During a fireworks display, a shell is shot into the air with an initial speed of 70.0 m/s at an angle of above the horizontal, as illustrated in Figure 3.\n",
      "Note also that the maximum height depends only on the vertical component of the initial velocity, so that any projectile with a 67.6 m/s initial vertical component of velocity will reach a maximum height of 233 m (neglecting air resistance).\n",
      "The horizontal displacement is horizontal velocity multiplied by time as given by where is equal to zero: where is the x-component of the velocity, which is given by Now, The time for both motions is the same, and so is The horizontal motion is a constant velocity in the absence of air resistance.\n",
      "The range of a projectile on level ground for which air resistance is negligible is given by\n",
      "\n",
      "where is the initial speed and is the initial angle relative to the horizontal.\n"
     ]
    }
   ],
   "source": [
    "summary = client.Summarize({'url' : \"https://pressbooks.bccampus.ca/collegephysics/chapter/projectile-motion/\", 'number_sentences':7})['sentences']\n",
    "for i in range(len(summary)):\n",
    "    print(summary[i])"
   ]
  },
  {
   "cell_type": "markdown",
   "metadata": {},
   "source": [
    "**Summarize a post on Computer Vision from my blog**"
   ]
  },
  {
   "cell_type": "code",
   "execution_count": 18,
   "metadata": {},
   "outputs": [
    {
     "name": "stdout",
     "output_type": "stream",
     "text": [
      "The Convolutional Layer takes the spatial information of the flat 2D image and converts it into something called feature maps using some weight matrices called kernels.\n",
      "The kernel is “shifted” across the entire image part-by-part (like the neurons in the visual cortex) and the Hadamard or Dot Product of each part of the image is taken with the kernel to produce a feature map.\n",
      "Thus, if a kernel is very “similar” to a certain part of an image, the corresponding part of the resulting feature map has a very high activation.\n",
      "For example, a kernel size of (3, 3) means that we find the dot product of a (3, 3) weight matrix with each (3, 3) part of the image.\n",
      "Max Pooling is the process of reducing the size of the images or feature maps by shifting across the image and picking the largest pixel value in each part of the image.\n"
     ]
    }
   ],
   "source": [
    "summary = client.Summarize({'url' : \"https://srirangatarun.wordpress.com/2018/07/24/computer-vision/\", 'number_sentences':7})['sentences']\n",
    "for i in range(len(summary)):\n",
    "    print(summary[i])"
   ]
  },
  {
   "cell_type": "markdown",
   "metadata": {},
   "source": [
    "**Summarize a post on Sequence Modeling from my blog**"
   ]
  },
  {
   "cell_type": "code",
   "execution_count": 19,
   "metadata": {},
   "outputs": [
    {
     "name": "stdout",
     "output_type": "stream",
     "text": [
      "An ANN neuron’s current state depends only on the current input as it discards information about the previous inputs to the cell)\n",
      "\n",
      "In Recurrent Neural Networks, there is a concept of time steps.\n",
      "At each time step, the recurrent cell updates its state based on the current input, gives an output vector h and then moves on to the next time step.\n",
      "Therefore, we need 2 separate weight matrices at each time step to calculate the current state of the recurrent cell.\n",
      "Matrix W is multiplied by the current input and the matrix U is multiplied by the previous state of the cell (at the previous time step) and the two products are added.\n",
      "The constituent cells of an LSTM network each have their own system of gates that decide what information and how much information from the sequence (text or audio) is stored in the cell’s state and how much is discarded at each time step.\n"
     ]
    }
   ],
   "source": [
    "summary = client.Summarize({'url' : \"https://srirangatarun.wordpress.com/2018/07/25/sequence-modelling/\", 'number_sentences':7})['sentences']\n",
    "for i in range(len(summary)):\n",
    "    print(summary[i])"
   ]
  },
  {
   "cell_type": "code",
   "execution_count": null,
   "metadata": {},
   "outputs": [],
   "source": []
  }
 ],
 "metadata": {
  "kernelspec": {
   "display_name": "Python 2",
   "language": "python",
   "name": "python2"
  },
  "language_info": {
   "codemirror_mode": {
    "name": "ipython",
    "version": 2
   },
   "file_extension": ".py",
   "mimetype": "text/x-python",
   "name": "python",
   "nbconvert_exporter": "python",
   "pygments_lexer": "ipython2",
   "version": "2.7.10"
  }
 },
 "nbformat": 4,
 "nbformat_minor": 2
}
